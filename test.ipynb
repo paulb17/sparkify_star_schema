{
 "cells": [
  {
   "cell_type": "code",
   "execution_count": 1,
   "metadata": {},
   "outputs": [],
   "source": [
    "%load_ext sql"
   ]
  },
  {
   "cell_type": "code",
   "execution_count": 2,
   "metadata": {},
   "outputs": [],
   "source": [
    "%sql postgresql://localhost/sparkifydb"
   ]
  },
  {
   "cell_type": "code",
   "execution_count": 3,
   "metadata": {},
   "outputs": [
    {
     "name": "stdout",
     "output_type": "stream",
     "text": [
      " * postgresql://localhost/sparkifydb\n",
      "1 rows affected.\n"
     ]
    },
    {
     "data": {
      "text/html": [
       "<table>\n",
       "    <tr>\n",
       "        <th>songplay_id</th>\n",
       "        <th>user_id</th>\n",
       "        <th>song_id</th>\n",
       "        <th>artist_id</th>\n",
       "        <th>start_time</th>\n",
       "        <th>session_id</th>\n",
       "        <th>level</th>\n",
       "        <th>location</th>\n",
       "        <th>user_agent</th>\n",
       "    </tr>\n",
       "    <tr>\n",
       "        <td>1</td>\n",
       "        <td>15</td>\n",
       "        <td>SOZCTXZ12AB0182364</td>\n",
       "        <td>AR5KOSW1187FB35FF4</td>\n",
       "        <td>2018-11-21 15:56:47.796000</td>\n",
       "        <td>None</td>\n",
       "        <td>paid</td>\n",
       "        <td>Chicago-Naperville-Elgin, IL-IN-WI</td>\n",
       "        <td>&quot;Mozilla/5.0 (X11; Linux x86_64) AppleWebKit/537.36 (KHTML, like Gecko) Ubuntu Chromium/36.0.1985.125 Chrome/36.0.1985.125 Safari/537.36&quot;</td>\n",
       "    </tr>\n",
       "</table>"
      ],
      "text/plain": [
       "[(1, 15, 'SOZCTXZ12AB0182364', 'AR5KOSW1187FB35FF4', datetime.datetime(2018, 11, 21, 15, 56, 47, 796000), None, 'paid', 'Chicago-Naperville-Elgin, IL-IN-WI', '\"Mozilla/5.0 (X11; Linux x86_64) AppleWebKit/537.36 (KHTML, like Gecko) Ubuntu Chromium/36.0.1985.125 Chrome/36.0.1985.125 Safari/537.36\"')]"
      ]
     },
     "execution_count": 3,
     "metadata": {},
     "output_type": "execute_result"
    }
   ],
   "source": [
    "%sql SELECT * FROM fact_song_plays LIMIT 5;"
   ]
  },
  {
   "cell_type": "code",
   "execution_count": 4,
   "metadata": {},
   "outputs": [
    {
     "name": "stdout",
     "output_type": "stream",
     "text": [
      " * postgresql://localhost/sparkifydb\n",
      "5 rows affected.\n"
     ]
    },
    {
     "data": {
      "text/html": [
       "<table>\n",
       "    <tr>\n",
       "        <th>user_id</th>\n",
       "        <th>first_name</th>\n",
       "        <th>last_name</th>\n",
       "        <th>gender</th>\n",
       "        <th>level</th>\n",
       "    </tr>\n",
       "    <tr>\n",
       "        <td>72</td>\n",
       "        <td>Hayden</td>\n",
       "        <td>Brock</td>\n",
       "        <td>F</td>\n",
       "        <td>paid</td>\n",
       "    </tr>\n",
       "    <tr>\n",
       "        <td>36</td>\n",
       "        <td>Matthew</td>\n",
       "        <td>Jones</td>\n",
       "        <td>M</td>\n",
       "        <td>paid</td>\n",
       "    </tr>\n",
       "    <tr>\n",
       "        <td>6</td>\n",
       "        <td>Cecilia</td>\n",
       "        <td>Owens</td>\n",
       "        <td>F</td>\n",
       "        <td>free</td>\n",
       "    </tr>\n",
       "    <tr>\n",
       "        <td>96</td>\n",
       "        <td>Cierra</td>\n",
       "        <td>Finley</td>\n",
       "        <td>F</td>\n",
       "        <td>free</td>\n",
       "    </tr>\n",
       "    <tr>\n",
       "        <td>71</td>\n",
       "        <td>Ayleen</td>\n",
       "        <td>Wise</td>\n",
       "        <td>F</td>\n",
       "        <td>free</td>\n",
       "    </tr>\n",
       "</table>"
      ],
      "text/plain": [
       "[(72, 'Hayden', 'Brock', 'F', 'paid'),\n",
       " (36, 'Matthew', 'Jones', 'M', 'paid'),\n",
       " (6, 'Cecilia', 'Owens', 'F', 'free'),\n",
       " (96, 'Cierra', 'Finley', 'F', 'free'),\n",
       " (71, 'Ayleen', 'Wise', 'F', 'free')]"
      ]
     },
     "execution_count": 4,
     "metadata": {},
     "output_type": "execute_result"
    }
   ],
   "source": [
    "%sql SELECT * FROM dim_users LIMIT 5;"
   ]
  },
  {
   "cell_type": "code",
   "execution_count": 5,
   "metadata": {},
   "outputs": [
    {
     "name": "stdout",
     "output_type": "stream",
     "text": [
      " * postgresql://localhost/sparkifydb\n",
      "5 rows affected.\n"
     ]
    },
    {
     "data": {
      "text/html": [
       "<table>\n",
       "    <tr>\n",
       "        <th>song_id</th>\n",
       "        <th>artist_id</th>\n",
       "        <th>title</th>\n",
       "        <th>year</th>\n",
       "        <th>duration</th>\n",
       "    </tr>\n",
       "    <tr>\n",
       "        <td>SONHOTT12A8C13493C</td>\n",
       "        <td>AR7G5I41187FB4CE6C</td>\n",
       "        <td>Something Girls</td>\n",
       "        <td>1982</td>\n",
       "        <td>233.40363</td>\n",
       "    </tr>\n",
       "    <tr>\n",
       "        <td>SOIAZJW12AB01853F1</td>\n",
       "        <td>AR8ZCNI1187B9A069B</td>\n",
       "        <td>Pink World</td>\n",
       "        <td>1984</td>\n",
       "        <td>269.81832</td>\n",
       "    </tr>\n",
       "    <tr>\n",
       "        <td>SOFSOCN12A8C143F5D</td>\n",
       "        <td>ARXR32B1187FB57099</td>\n",
       "        <td>Face the Ashes</td>\n",
       "        <td>2007</td>\n",
       "        <td>209.60608</td>\n",
       "    </tr>\n",
       "    <tr>\n",
       "        <td>SOHKNRJ12A6701D1F8</td>\n",
       "        <td>AR10USD1187B99F3F1</td>\n",
       "        <td>Drop of Rain</td>\n",
       "        <td>0</td>\n",
       "        <td>189.57016</td>\n",
       "    </tr>\n",
       "    <tr>\n",
       "        <td>SOQHXMF12AB0182363</td>\n",
       "        <td>ARGSJW91187B9B1D6B</td>\n",
       "        <td>Young Boy Blues</td>\n",
       "        <td>0</td>\n",
       "        <td>218.77506</td>\n",
       "    </tr>\n",
       "</table>"
      ],
      "text/plain": [
       "[('SONHOTT12A8C13493C', 'AR7G5I41187FB4CE6C', 'Something Girls', 1982, 233.40363),\n",
       " ('SOIAZJW12AB01853F1', 'AR8ZCNI1187B9A069B', 'Pink World', 1984, 269.81832),\n",
       " ('SOFSOCN12A8C143F5D', 'ARXR32B1187FB57099', 'Face the Ashes', 2007, 209.60608),\n",
       " ('SOHKNRJ12A6701D1F8', 'AR10USD1187B99F3F1', 'Drop of Rain', 0, 189.57016),\n",
       " ('SOQHXMF12AB0182363', 'ARGSJW91187B9B1D6B', 'Young Boy Blues', 0, 218.77506)]"
      ]
     },
     "execution_count": 5,
     "metadata": {},
     "output_type": "execute_result"
    }
   ],
   "source": [
    "%sql SELECT * FROM dim_songs LIMIT 5;"
   ]
  },
  {
   "cell_type": "code",
   "execution_count": 6,
   "metadata": {},
   "outputs": [
    {
     "name": "stdout",
     "output_type": "stream",
     "text": [
      " * postgresql://localhost/sparkifydb\n",
      "5 rows affected.\n"
     ]
    },
    {
     "data": {
      "text/html": [
       "<table>\n",
       "    <tr>\n",
       "        <th>artist_id</th>\n",
       "        <th>artist_name</th>\n",
       "        <th>artist_location</th>\n",
       "        <th>artist_latitude</th>\n",
       "        <th>artist_longitude</th>\n",
       "    </tr>\n",
       "    <tr>\n",
       "        <td>AR7G5I41187FB4CE6C</td>\n",
       "        <td>Adam Ant</td>\n",
       "        <td>London, England</td>\n",
       "        <td>None</td>\n",
       "        <td>None</td>\n",
       "    </tr>\n",
       "    <tr>\n",
       "        <td>AR8ZCNI1187B9A069B</td>\n",
       "        <td>Planet P Project</td>\n",
       "        <td></td>\n",
       "        <td>None</td>\n",
       "        <td>None</td>\n",
       "    </tr>\n",
       "    <tr>\n",
       "        <td>ARXR32B1187FB57099</td>\n",
       "        <td>Gob</td>\n",
       "        <td></td>\n",
       "        <td>None</td>\n",
       "        <td>None</td>\n",
       "    </tr>\n",
       "    <tr>\n",
       "        <td>AR10USD1187B99F3F1</td>\n",
       "        <td>Tweeterfriendly Music</td>\n",
       "        <td>Burlington, Ontario, Canada</td>\n",
       "        <td>None</td>\n",
       "        <td>None</td>\n",
       "    </tr>\n",
       "    <tr>\n",
       "        <td>ARGSJW91187B9B1D6B</td>\n",
       "        <td>JennyAnyKind</td>\n",
       "        <td>North Carolina</td>\n",
       "        <td>35.21962</td>\n",
       "        <td>-80.01955</td>\n",
       "    </tr>\n",
       "</table>"
      ],
      "text/plain": [
       "[('AR7G5I41187FB4CE6C', 'Adam Ant', 'London, England', None, None),\n",
       " ('AR8ZCNI1187B9A069B', 'Planet P Project', '', None, None),\n",
       " ('ARXR32B1187FB57099', 'Gob', '', None, None),\n",
       " ('AR10USD1187B99F3F1', 'Tweeterfriendly Music', 'Burlington, Ontario, Canada', None, None),\n",
       " ('ARGSJW91187B9B1D6B', 'JennyAnyKind', 'North Carolina', '35.21962', '-80.01955')]"
      ]
     },
     "execution_count": 6,
     "metadata": {},
     "output_type": "execute_result"
    }
   ],
   "source": [
    "%sql SELECT * FROM dim_artists LIMIT 5;"
   ]
  },
  {
   "cell_type": "code",
   "execution_count": 7,
   "metadata": {},
   "outputs": [
    {
     "name": "stdout",
     "output_type": "stream",
     "text": [
      " * postgresql://localhost/sparkifydb\n",
      "5 rows affected.\n"
     ]
    },
    {
     "data": {
      "text/html": [
       "<table>\n",
       "    <tr>\n",
       "        <th>start_time</th>\n",
       "        <th>hour</th>\n",
       "        <th>day</th>\n",
       "        <th>week</th>\n",
       "        <th>month</th>\n",
       "        <th>year</th>\n",
       "        <th>weekday</th>\n",
       "    </tr>\n",
       "    <tr>\n",
       "        <td>2018-11-10 20:33:56.796000</td>\n",
       "        <td>20</td>\n",
       "        <td>10</td>\n",
       "        <td>45</td>\n",
       "        <td>11</td>\n",
       "        <td>2018</td>\n",
       "        <td>5</td>\n",
       "    </tr>\n",
       "    <tr>\n",
       "        <td>2018-11-10 20:36:10.796000</td>\n",
       "        <td>20</td>\n",
       "        <td>10</td>\n",
       "        <td>45</td>\n",
       "        <td>11</td>\n",
       "        <td>2018</td>\n",
       "        <td>5</td>\n",
       "    </tr>\n",
       "    <tr>\n",
       "        <td>2018-11-10 20:40:34.796000</td>\n",
       "        <td>20</td>\n",
       "        <td>10</td>\n",
       "        <td>45</td>\n",
       "        <td>11</td>\n",
       "        <td>2018</td>\n",
       "        <td>5</td>\n",
       "    </tr>\n",
       "    <tr>\n",
       "        <td>2018-11-10 22:36:13.796000</td>\n",
       "        <td>22</td>\n",
       "        <td>10</td>\n",
       "        <td>45</td>\n",
       "        <td>11</td>\n",
       "        <td>2018</td>\n",
       "        <td>5</td>\n",
       "    </tr>\n",
       "    <tr>\n",
       "        <td>2018-11-10 22:36:46.796000</td>\n",
       "        <td>22</td>\n",
       "        <td>10</td>\n",
       "        <td>45</td>\n",
       "        <td>11</td>\n",
       "        <td>2018</td>\n",
       "        <td>5</td>\n",
       "    </tr>\n",
       "</table>"
      ],
      "text/plain": [
       "[(datetime.datetime(2018, 11, 10, 20, 33, 56, 796000), 20, 10, 45, 11, 2018, 5),\n",
       " (datetime.datetime(2018, 11, 10, 20, 36, 10, 796000), 20, 10, 45, 11, 2018, 5),\n",
       " (datetime.datetime(2018, 11, 10, 20, 40, 34, 796000), 20, 10, 45, 11, 2018, 5),\n",
       " (datetime.datetime(2018, 11, 10, 22, 36, 13, 796000), 22, 10, 45, 11, 2018, 5),\n",
       " (datetime.datetime(2018, 11, 10, 22, 36, 46, 796000), 22, 10, 45, 11, 2018, 5)]"
      ]
     },
     "execution_count": 7,
     "metadata": {},
     "output_type": "execute_result"
    }
   ],
   "source": [
    "%sql SELECT * FROM dim_time LIMIT 5;"
   ]
  },
  {
   "cell_type": "markdown",
   "metadata": {},
   "source": [
    "## REMEMBER: Restart this notebook to close connection to `sparkifydb`\n",
    "Each time you run the cells above, remember to restart this notebook to close the connection to your database. Otherwise, you won't be able to run your code in `create_tables.py`, `etl.py`, or `etl.ipynb` files since you can't make multiple connections to the same database (in this case, sparkifydb)."
   ]
  }
 ],
 "metadata": {
  "kernelspec": {
   "display_name": "Python 3",
   "language": "python",
   "name": "python3"
  },
  "language_info": {
   "codemirror_mode": {
    "name": "ipython",
    "version": 3
   },
   "file_extension": ".py",
   "mimetype": "text/x-python",
   "name": "python",
   "nbconvert_exporter": "python",
   "pygments_lexer": "ipython3",
   "version": "3.6.3"
  }
 },
 "nbformat": 4,
 "nbformat_minor": 2
}
